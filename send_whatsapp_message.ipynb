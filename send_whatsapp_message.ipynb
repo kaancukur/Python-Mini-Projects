{
  "cells": [
    {
      "cell_type": "code",
      "source": [
        "!pip install pywhatkit\n",
        "import pywhatkit"
      ],
      "metadata": {
        "id": "JBWz0EZtgrjp"
      },
      "execution_count": null,
      "outputs": []
    },
    {
      "cell_type": "code",
      "source": [
        "#contact phone number or group name and your text\n",
        "contact_number=\"+901234567890\"\n",
        "group_name=\"Python_mini_projects\"\n",
        "text=\"This message sent from Python!\"\n",
        "#For instantly message\n",
        "pywhatkit.sendwhatmsg_instantly(contact_number, text)\n",
        "#For time schedule hours between 0-24\n",
        "hour=12\n",
        "min=30\n",
        "pywhatkit.sendwhatmsg(contact_number, text,hour,min)\n",
        "#for group message\n",
        "pywhatkit.sendwhatmsg_to_group(group_name,text,hour, 20)\n"
      ],
      "metadata": {
        "id": "x3d7ThJFT7of"
      },
      "execution_count": null,
      "outputs": []
    }
  ],
  "metadata": {
    "colab": {
      "name": "Colaboratory'ye Hoş Geldiniz",
      "toc_visible": true,
      "provenance": []
    },
    "kernelspec": {
      "display_name": "Python 3",
      "name": "python3"
    }
  },
  "nbformat": 4,
  "nbformat_minor": 0
}