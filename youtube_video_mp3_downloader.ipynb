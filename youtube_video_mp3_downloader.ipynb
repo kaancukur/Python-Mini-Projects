{
  "nbformat": 4,
  "nbformat_minor": 0,
  "metadata": {
    "colab": {
      "provenance": []
    },
    "kernelspec": {
      "name": "python3",
      "display_name": "Python 3"
    },
    "language_info": {
      "name": "python"
    }
  },
  "cells": [
    {
      "cell_type": "code",
      "execution_count": 53,
      "metadata": {
        "id": "7GXpZnoZWJsl"
      },
      "outputs": [],
      "source": [
        "# https://www.youtube.com/watch?v=iy0CN6O6q-M => Youtube link which we download\n",
        "# path=/content/sample_data  => Path copied from Colab"
      ]
    },
    {
      "cell_type": "code",
      "source": [
        "!pip install pytube"
      ],
      "metadata": {
        "colab": {
          "base_uri": "https://localhost:8080/"
        },
        "id": "Qvf2GvasWQAI",
        "outputId": "05951bcc-98c1-4345-b47b-a4e76563dfb6"
      },
      "execution_count": 2,
      "outputs": [
        {
          "output_type": "stream",
          "name": "stdout",
          "text": [
            "Looking in indexes: https://pypi.org/simple, https://us-python.pkg.dev/colab-wheels/public/simple/\n",
            "Collecting pytube\n",
            "  Downloading pytube-12.1.0-py3-none-any.whl (56 kB)\n",
            "\u001b[K     |████████████████████████████████| 56 kB 3.1 MB/s \n",
            "\u001b[?25hInstalling collected packages: pytube\n",
            "Successfully installed pytube-12.1.0\n"
          ]
        }
      ]
    },
    {
      "cell_type": "code",
      "source": [
        "def Downloader():\n",
        "  import pytube # Import library\n",
        "  url=input(\"Please paste your youtube link : \") # Take url from user\n",
        "  MediaType=input(\"Mp3 or Mp4 ? : \") # I add two option Mp3 and mP4 \n",
        "  path=\"/content/sample_data\" # My video or Mp3 file will dowload ths path.\n",
        "  if MediaType=='mp4': # Case 1 if my mediatype is Mp4\n",
        "    print(\"Mp4 file is downloading...\")\n",
        "    pytube.YouTube(url).streams.get_highest_resolution().download(output_path=path,filename=\"video.mp4\") # then download Mp4 file.\n",
        "  else:\n",
        "    print(\"Mp3 file is downloading...\") #İf is not Mp4 so if is it mp3\n",
        "    pytube.YouTube(url).streams.get_audio_only().download(output_path=path,filename=\"video.mp3\") # then download Mp3 file.\n",
        "  return('Download finished.')  \n",
        "\n"
      ],
      "metadata": {
        "id": "f97bQW2IfGqc"
      },
      "execution_count": 54,
      "outputs": []
    },
    {
      "cell_type": "code",
      "source": [
        "Downloader()"
      ],
      "metadata": {
        "colab": {
          "base_uri": "https://localhost:8080/",
          "height": 88
        },
        "id": "k8SI6dpLlhAM",
        "outputId": "9d25f521-48cf-435e-929b-88b6ce60d67d"
      },
      "execution_count": 55,
      "outputs": [
        {
          "output_type": "stream",
          "name": "stdout",
          "text": [
            "Please paste your youtube link : https://www.youtube.com/watch?v=MwpMEbgC7DA\n",
            "Mp3 or Mp4 ? : mp4\n",
            "Mp4 file is downloading...\n"
          ]
        },
        {
          "output_type": "execute_result",
          "data": {
            "text/plain": [
              "'Download finished.'"
            ],
            "application/vnd.google.colaboratory.intrinsic+json": {
              "type": "string"
            }
          },
          "metadata": {},
          "execution_count": 55
        }
      ]
    },
    {
      "cell_type": "code",
      "source": [
        "Downloader()"
      ],
      "metadata": {
        "colab": {
          "base_uri": "https://localhost:8080/",
          "height": 88
        },
        "id": "9pYXyh60l53r",
        "outputId": "2728bf46-c605-4b7e-9ed8-c849a7a31f48"
      },
      "execution_count": 48,
      "outputs": [
        {
          "output_type": "stream",
          "name": "stdout",
          "text": [
            "Please paste your youtube link : https://www.youtube.com/watch?v=MwpMEbgC7DA\n",
            "Mp3 or Mp4 ? : mp3\n",
            "Mp3 file is downloading...\n"
          ]
        },
        {
          "output_type": "execute_result",
          "data": {
            "text/plain": [
              "'Download finished.'"
            ],
            "application/vnd.google.colaboratory.intrinsic+json": {
              "type": "string"
            }
          },
          "metadata": {},
          "execution_count": 48
        }
      ]
    },
    {
      "cell_type": "code",
      "source": [],
      "metadata": {
        "id": "uAc9SGWtnJWD"
      },
      "execution_count": null,
      "outputs": []
    }
  ]
}