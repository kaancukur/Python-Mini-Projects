{
  "nbformat": 4,
  "nbformat_minor": 0,
  "metadata": {
    "colab": {
      "provenance": []
    },
    "kernelspec": {
      "name": "python3",
      "display_name": "Python 3"
    },
    "language_info": {
      "name": "python"
    }
  },
  "cells": [
    {
      "cell_type": "code",
      "source": [
        "import smtplib #import necessary libraries\n",
        "from email.message import EmailMessage"
      ],
      "metadata": {
        "id": "FOqTRZH6M7tv"
      },
      "execution_count": 25,
      "outputs": []
    },
    {
      "cell_type": "code",
      "source": [
        "email_sender='kaancukurx@gmail.com' #Sender email\n",
        "email_password='kmybiqwbkkvroiis'#password whichone take from google account.\n",
        "email_reciever='kaancukurx@gmail.com' # email reciever\n",
        "subject='Send mail with Python!' # your mail subject\n",
        "content='Please look at attached file' # email content(you can add .txt file in here.)"
      ],
      "metadata": {
        "id": "yrhCNhhlS5u0"
      },
      "execution_count": 26,
      "outputs": []
    },
    {
      "cell_type": "code",
      "source": [
        "def send_mail_with_attachment(email_reciever, subject, content, excel_file):\n",
        "    msg = EmailMessage()\n",
        "    msg['Subject'] = subject # definitaion of subject\n",
        "    msg['From'] = email_sender # definitaion of sender\n",
        "    msg['To'] = email_reciever # definitaion of reciever\n",
        "    msg.set_content(content) # setting content\n",
        "    with open(excel_file, 'rb') as f:\n",
        "        file_data = f.read() # reading of excel file, you can change this to csv,txt,png..\n",
        "    msg.add_attachment(file_data, maintype=\"application\", subtype=\"xlsx\", filename=excel_file)# add attachment part.need to optimize for your file.\n",
        "\n",
        "    with smtplib.SMTP_SSL('smtp.gmail.com',465) as smtp:# our port is 465 for mail.\n",
        "        smtp.login(email_sender, email_password) # login to gmail.\n",
        "        smtp.send_message(msg)#sending to email"
      ],
      "metadata": {
        "id": "5OMGh0NcXuWV"
      },
      "execution_count": 27,
      "outputs": []
    },
    {
      "cell_type": "code",
      "source": [
        "send_mail_with_attachment(email_reciever,subject,content,'/content/sample_data/try.xlsx')"
      ],
      "metadata": {
        "id": "C5AaLovpYTSz"
      },
      "execution_count": 28,
      "outputs": []
    },
    {
      "cell_type": "code",
      "source": [],
      "metadata": {
        "id": "WxC2rOqXN-hU"
      },
      "execution_count": null,
      "outputs": []
    }
  ]
}