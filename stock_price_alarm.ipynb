{
  "nbformat": 4,
  "nbformat_minor": 0,
  "metadata": {
    "colab": {
      "provenance": []
    },
    "kernelspec": {
      "name": "python3",
      "display_name": "Python 3"
    },
    "language_info": {
      "name": "python"
    }
  },
  "cells": [
    {
      "cell_type": "code",
      "source": [
        "!pip install yFinance\n",
        "import yfinance as yf\n",
        "\n"
      ],
      "metadata": {
        "colab": {
          "base_uri": "https://localhost:8080/"
        },
        "id": "KcXc54KilUhK",
        "outputId": "ee143ad7-cf5d-40d2-982e-4b8af19fab0d"
      },
      "execution_count": 103,
      "outputs": [
        {
          "output_type": "stream",
          "name": "stdout",
          "text": [
            "Looking in indexes: https://pypi.org/simple, https://us-python.pkg.dev/colab-wheels/public/simple/\n",
            "Requirement already satisfied: yFinance in /usr/local/lib/python3.7/dist-packages (0.1.87)\n",
            "Requirement already satisfied: requests>=2.26 in /usr/local/lib/python3.7/dist-packages (from yFinance) (2.28.1)\n",
            "Requirement already satisfied: pandas>=0.24.0 in /usr/local/lib/python3.7/dist-packages (from yFinance) (1.3.5)\n",
            "Requirement already satisfied: appdirs>=1.4.4 in /usr/local/lib/python3.7/dist-packages (from yFinance) (1.4.4)\n",
            "Requirement already satisfied: numpy>=1.15 in /usr/local/lib/python3.7/dist-packages (from yFinance) (1.21.6)\n",
            "Requirement already satisfied: multitasking>=0.0.7 in /usr/local/lib/python3.7/dist-packages (from yFinance) (0.0.11)\n",
            "Requirement already satisfied: lxml>=4.5.1 in /usr/local/lib/python3.7/dist-packages (from yFinance) (4.9.1)\n",
            "Requirement already satisfied: python-dateutil>=2.7.3 in /usr/local/lib/python3.7/dist-packages (from pandas>=0.24.0->yFinance) (2.8.2)\n",
            "Requirement already satisfied: pytz>=2017.3 in /usr/local/lib/python3.7/dist-packages (from pandas>=0.24.0->yFinance) (2022.6)\n",
            "Requirement already satisfied: six>=1.5 in /usr/local/lib/python3.7/dist-packages (from python-dateutil>=2.7.3->pandas>=0.24.0->yFinance) (1.15.0)\n",
            "Requirement already satisfied: charset-normalizer<3,>=2 in /usr/local/lib/python3.7/dist-packages (from requests>=2.26->yFinance) (2.1.1)\n",
            "Requirement already satisfied: urllib3<1.27,>=1.21.1 in /usr/local/lib/python3.7/dist-packages (from requests>=2.26->yFinance) (1.24.3)\n",
            "Requirement already satisfied: idna<4,>=2.5 in /usr/local/lib/python3.7/dist-packages (from requests>=2.26->yFinance) (2.10)\n",
            "Requirement already satisfied: certifi>=2017.4.17 in /usr/local/lib/python3.7/dist-packages (from requests>=2.26->yFinance) (2022.9.24)\n"
          ]
        }
      ]
    },
    {
      "cell_type": "code",
      "source": [
        "import plotly.graph_objs as go\n",
        "\n"
      ],
      "metadata": {
        "id": "gmpH9mFXttgz"
      },
      "execution_count": 104,
      "outputs": []
    },
    {
      "cell_type": "code",
      "source": [
        "usd_try = yf.Ticker(\"TRY=X\")"
      ],
      "metadata": {
        "id": "6XspmtHescE5"
      },
      "execution_count": 105,
      "outputs": []
    },
    {
      "cell_type": "code",
      "source": [
        "#usd_try.info"
      ],
      "metadata": {
        "id": "9VNvB4i4vmOn"
      },
      "execution_count": null,
      "outputs": []
    },
    {
      "cell_type": "code",
      "source": [
        "#Günlük periyotta 1 dakikalık aralıklarla veriyi çekiyorum. Verim Pandas Dataframe olarak geliyor.\n",
        "df = yf.download(tickers='TRY=X', period='1d', interval='1m')\n",
        "type(df)"
      ],
      "metadata": {
        "colab": {
          "base_uri": "https://localhost:8080/"
        },
        "id": "WzLkHb7ctv2Z",
        "outputId": "5bc554a5-1cd1-4d62-ba42-5c04049a9aba"
      },
      "execution_count": 106,
      "outputs": [
        {
          "output_type": "stream",
          "name": "stdout",
          "text": [
            "\r[*********************100%***********************]  1 of 1 completed\n"
          ]
        },
        {
          "output_type": "execute_result",
          "data": {
            "text/plain": [
              "pandas.core.frame.DataFrame"
            ]
          },
          "metadata": {},
          "execution_count": 106
        }
      ]
    },
    {
      "cell_type": "code",
      "source": [
        "df # Veri setinde son satır için tüm değerleri anlık veri olarak çektiği için değerler aynı görünmekte. "
      ],
      "metadata": {
        "colab": {
          "base_uri": "https://localhost:8080/",
          "height": 455
        },
        "id": "AwonjFv-t-Gf",
        "outputId": "3bda92de-ed91-4139-d60d-a298d69f7908"
      },
      "execution_count": 107,
      "outputs": [
        {
          "output_type": "execute_result",
          "data": {
            "text/plain": [
              "                          Open       High        Low      Close  Adj Close  \\\n",
              "Datetime                                                                     \n",
              "2022-11-17 00:00:00  18.604450  18.624001  18.599501  18.606310  18.606310   \n",
              "2022-11-17 00:01:00  18.605949  18.620300  18.599001  18.620300  18.620300   \n",
              "2022-11-17 00:02:00  18.606400  18.620399  18.598400  18.615400  18.615400   \n",
              "2022-11-17 00:03:00  18.615700  18.617300  18.589451  18.614300  18.614300   \n",
              "2022-11-17 00:04:00  18.615101  18.617500  18.589609  18.606819  18.606819   \n",
              "...                        ...        ...        ...        ...        ...   \n",
              "2022-11-17 21:22:00  18.586349  18.586349  18.559700  18.586349  18.586349   \n",
              "2022-11-17 21:23:00  18.586349  18.597799  18.559700  18.585699  18.585699   \n",
              "2022-11-17 21:24:00  18.585100  18.598900  18.559900  18.559900  18.559900   \n",
              "2022-11-17 21:25:00  18.584841  18.597900  18.560699  18.581110  18.581110   \n",
              "2022-11-17 21:26:46  18.586300  18.586300  18.586300  18.586300  18.586300   \n",
              "\n",
              "                     Volume  \n",
              "Datetime                     \n",
              "2022-11-17 00:00:00       0  \n",
              "2022-11-17 00:01:00       0  \n",
              "2022-11-17 00:02:00       0  \n",
              "2022-11-17 00:03:00       0  \n",
              "2022-11-17 00:04:00       0  \n",
              "...                     ...  \n",
              "2022-11-17 21:22:00       0  \n",
              "2022-11-17 21:23:00       0  \n",
              "2022-11-17 21:24:00       0  \n",
              "2022-11-17 21:25:00       0  \n",
              "2022-11-17 21:26:46       0  \n",
              "\n",
              "[1286 rows x 6 columns]"
            ],
            "text/html": [
              "\n",
              "  <div id=\"df-ff18423f-8bc2-483a-8cce-237926696f3e\">\n",
              "    <div class=\"colab-df-container\">\n",
              "      <div>\n",
              "<style scoped>\n",
              "    .dataframe tbody tr th:only-of-type {\n",
              "        vertical-align: middle;\n",
              "    }\n",
              "\n",
              "    .dataframe tbody tr th {\n",
              "        vertical-align: top;\n",
              "    }\n",
              "\n",
              "    .dataframe thead th {\n",
              "        text-align: right;\n",
              "    }\n",
              "</style>\n",
              "<table border=\"1\" class=\"dataframe\">\n",
              "  <thead>\n",
              "    <tr style=\"text-align: right;\">\n",
              "      <th></th>\n",
              "      <th>Open</th>\n",
              "      <th>High</th>\n",
              "      <th>Low</th>\n",
              "      <th>Close</th>\n",
              "      <th>Adj Close</th>\n",
              "      <th>Volume</th>\n",
              "    </tr>\n",
              "    <tr>\n",
              "      <th>Datetime</th>\n",
              "      <th></th>\n",
              "      <th></th>\n",
              "      <th></th>\n",
              "      <th></th>\n",
              "      <th></th>\n",
              "      <th></th>\n",
              "    </tr>\n",
              "  </thead>\n",
              "  <tbody>\n",
              "    <tr>\n",
              "      <th>2022-11-17 00:00:00</th>\n",
              "      <td>18.604450</td>\n",
              "      <td>18.624001</td>\n",
              "      <td>18.599501</td>\n",
              "      <td>18.606310</td>\n",
              "      <td>18.606310</td>\n",
              "      <td>0</td>\n",
              "    </tr>\n",
              "    <tr>\n",
              "      <th>2022-11-17 00:01:00</th>\n",
              "      <td>18.605949</td>\n",
              "      <td>18.620300</td>\n",
              "      <td>18.599001</td>\n",
              "      <td>18.620300</td>\n",
              "      <td>18.620300</td>\n",
              "      <td>0</td>\n",
              "    </tr>\n",
              "    <tr>\n",
              "      <th>2022-11-17 00:02:00</th>\n",
              "      <td>18.606400</td>\n",
              "      <td>18.620399</td>\n",
              "      <td>18.598400</td>\n",
              "      <td>18.615400</td>\n",
              "      <td>18.615400</td>\n",
              "      <td>0</td>\n",
              "    </tr>\n",
              "    <tr>\n",
              "      <th>2022-11-17 00:03:00</th>\n",
              "      <td>18.615700</td>\n",
              "      <td>18.617300</td>\n",
              "      <td>18.589451</td>\n",
              "      <td>18.614300</td>\n",
              "      <td>18.614300</td>\n",
              "      <td>0</td>\n",
              "    </tr>\n",
              "    <tr>\n",
              "      <th>2022-11-17 00:04:00</th>\n",
              "      <td>18.615101</td>\n",
              "      <td>18.617500</td>\n",
              "      <td>18.589609</td>\n",
              "      <td>18.606819</td>\n",
              "      <td>18.606819</td>\n",
              "      <td>0</td>\n",
              "    </tr>\n",
              "    <tr>\n",
              "      <th>...</th>\n",
              "      <td>...</td>\n",
              "      <td>...</td>\n",
              "      <td>...</td>\n",
              "      <td>...</td>\n",
              "      <td>...</td>\n",
              "      <td>...</td>\n",
              "    </tr>\n",
              "    <tr>\n",
              "      <th>2022-11-17 21:22:00</th>\n",
              "      <td>18.586349</td>\n",
              "      <td>18.586349</td>\n",
              "      <td>18.559700</td>\n",
              "      <td>18.586349</td>\n",
              "      <td>18.586349</td>\n",
              "      <td>0</td>\n",
              "    </tr>\n",
              "    <tr>\n",
              "      <th>2022-11-17 21:23:00</th>\n",
              "      <td>18.586349</td>\n",
              "      <td>18.597799</td>\n",
              "      <td>18.559700</td>\n",
              "      <td>18.585699</td>\n",
              "      <td>18.585699</td>\n",
              "      <td>0</td>\n",
              "    </tr>\n",
              "    <tr>\n",
              "      <th>2022-11-17 21:24:00</th>\n",
              "      <td>18.585100</td>\n",
              "      <td>18.598900</td>\n",
              "      <td>18.559900</td>\n",
              "      <td>18.559900</td>\n",
              "      <td>18.559900</td>\n",
              "      <td>0</td>\n",
              "    </tr>\n",
              "    <tr>\n",
              "      <th>2022-11-17 21:25:00</th>\n",
              "      <td>18.584841</td>\n",
              "      <td>18.597900</td>\n",
              "      <td>18.560699</td>\n",
              "      <td>18.581110</td>\n",
              "      <td>18.581110</td>\n",
              "      <td>0</td>\n",
              "    </tr>\n",
              "    <tr>\n",
              "      <th>2022-11-17 21:26:46</th>\n",
              "      <td>18.586300</td>\n",
              "      <td>18.586300</td>\n",
              "      <td>18.586300</td>\n",
              "      <td>18.586300</td>\n",
              "      <td>18.586300</td>\n",
              "      <td>0</td>\n",
              "    </tr>\n",
              "  </tbody>\n",
              "</table>\n",
              "<p>1286 rows × 6 columns</p>\n",
              "</div>\n",
              "      <button class=\"colab-df-convert\" onclick=\"convertToInteractive('df-ff18423f-8bc2-483a-8cce-237926696f3e')\"\n",
              "              title=\"Convert this dataframe to an interactive table.\"\n",
              "              style=\"display:none;\">\n",
              "        \n",
              "  <svg xmlns=\"http://www.w3.org/2000/svg\" height=\"24px\"viewBox=\"0 0 24 24\"\n",
              "       width=\"24px\">\n",
              "    <path d=\"M0 0h24v24H0V0z\" fill=\"none\"/>\n",
              "    <path d=\"M18.56 5.44l.94 2.06.94-2.06 2.06-.94-2.06-.94-.94-2.06-.94 2.06-2.06.94zm-11 1L8.5 8.5l.94-2.06 2.06-.94-2.06-.94L8.5 2.5l-.94 2.06-2.06.94zm10 10l.94 2.06.94-2.06 2.06-.94-2.06-.94-.94-2.06-.94 2.06-2.06.94z\"/><path d=\"M17.41 7.96l-1.37-1.37c-.4-.4-.92-.59-1.43-.59-.52 0-1.04.2-1.43.59L10.3 9.45l-7.72 7.72c-.78.78-.78 2.05 0 2.83L4 21.41c.39.39.9.59 1.41.59.51 0 1.02-.2 1.41-.59l7.78-7.78 2.81-2.81c.8-.78.8-2.07 0-2.86zM5.41 20L4 18.59l7.72-7.72 1.47 1.35L5.41 20z\"/>\n",
              "  </svg>\n",
              "      </button>\n",
              "      \n",
              "  <style>\n",
              "    .colab-df-container {\n",
              "      display:flex;\n",
              "      flex-wrap:wrap;\n",
              "      gap: 12px;\n",
              "    }\n",
              "\n",
              "    .colab-df-convert {\n",
              "      background-color: #E8F0FE;\n",
              "      border: none;\n",
              "      border-radius: 50%;\n",
              "      cursor: pointer;\n",
              "      display: none;\n",
              "      fill: #1967D2;\n",
              "      height: 32px;\n",
              "      padding: 0 0 0 0;\n",
              "      width: 32px;\n",
              "    }\n",
              "\n",
              "    .colab-df-convert:hover {\n",
              "      background-color: #E2EBFA;\n",
              "      box-shadow: 0px 1px 2px rgba(60, 64, 67, 0.3), 0px 1px 3px 1px rgba(60, 64, 67, 0.15);\n",
              "      fill: #174EA6;\n",
              "    }\n",
              "\n",
              "    [theme=dark] .colab-df-convert {\n",
              "      background-color: #3B4455;\n",
              "      fill: #D2E3FC;\n",
              "    }\n",
              "\n",
              "    [theme=dark] .colab-df-convert:hover {\n",
              "      background-color: #434B5C;\n",
              "      box-shadow: 0px 1px 3px 1px rgba(0, 0, 0, 0.15);\n",
              "      filter: drop-shadow(0px 1px 2px rgba(0, 0, 0, 0.3));\n",
              "      fill: #FFFFFF;\n",
              "    }\n",
              "  </style>\n",
              "\n",
              "      <script>\n",
              "        const buttonEl =\n",
              "          document.querySelector('#df-ff18423f-8bc2-483a-8cce-237926696f3e button.colab-df-convert');\n",
              "        buttonEl.style.display =\n",
              "          google.colab.kernel.accessAllowed ? 'block' : 'none';\n",
              "\n",
              "        async function convertToInteractive(key) {\n",
              "          const element = document.querySelector('#df-ff18423f-8bc2-483a-8cce-237926696f3e');\n",
              "          const dataTable =\n",
              "            await google.colab.kernel.invokeFunction('convertToInteractive',\n",
              "                                                     [key], {});\n",
              "          if (!dataTable) return;\n",
              "\n",
              "          const docLinkHtml = 'Like what you see? Visit the ' +\n",
              "            '<a target=\"_blank\" href=https://colab.research.google.com/notebooks/data_table.ipynb>data table notebook</a>'\n",
              "            + ' to learn more about interactive tables.';\n",
              "          element.innerHTML = '';\n",
              "          dataTable['output_type'] = 'display_data';\n",
              "          await google.colab.output.renderOutput(dataTable, element);\n",
              "          const docLink = document.createElement('div');\n",
              "          docLink.innerHTML = docLinkHtml;\n",
              "          element.appendChild(docLink);\n",
              "        }\n",
              "      </script>\n",
              "    </div>\n",
              "  </div>\n",
              "  "
            ]
          },
          "metadata": {},
          "execution_count": 107
        }
      ]
    },
    {
      "cell_type": "code",
      "source": [
        "print(df.iloc[len(df['Close'])-1])"
      ],
      "metadata": {
        "colab": {
          "base_uri": "https://localhost:8080/"
        },
        "id": "gNS7OhbOxqeh",
        "outputId": "afb41403-8e65-4c55-c3bf-d7c2e9b8bb56"
      },
      "execution_count": 108,
      "outputs": [
        {
          "output_type": "stream",
          "name": "stdout",
          "text": [
            "Open         18.5863\n",
            "High         18.5863\n",
            "Low          18.5863\n",
            "Close        18.5863\n",
            "Adj Close    18.5863\n",
            "Volume        0.0000\n",
            "Name: 2022-11-17 21:26:46, dtype: float64\n"
          ]
        }
      ]
    },
    {
      "cell_type": "code",
      "source": [
        "close_value=(df['Close'].iloc[len(df['Close'])-1]) #Close sutünunun son verisini kapanış değeri olarak atıyorum.\n",
        "print(close_value)"
      ],
      "metadata": {
        "colab": {
          "base_uri": "https://localhost:8080/"
        },
        "id": "M0QQLfXUsoIh",
        "outputId": "f59fddad-6a2d-4a10-d563-2b76c622bd1d"
      },
      "execution_count": 112,
      "outputs": [
        {
          "output_type": "stream",
          "name": "stdout",
          "text": [
            "18.586299896240234\n"
          ]
        }
      ]
    },
    {
      "cell_type": "code",
      "source": [
        "from datetime import datetime\n",
        "\n",
        "#datetime tüm zaman birimlerini kapsamaktadır.\n",
        "now = datetime.now()\n",
        "#Veri saniyeye kadar indiği için bende buraya kadar alıyorum.\n",
        "sys_date = now.strftime(\"%d/%m/%Y %H:%M:%S\")\n",
        "print(\"date and time =\", sys_date)"
      ],
      "metadata": {
        "colab": {
          "base_uri": "https://localhost:8080/"
        },
        "id": "Z2jhdencQJGz",
        "outputId": "74cb7f63-306b-434f-e9db-7c239ba05614"
      },
      "execution_count": 113,
      "outputs": [
        {
          "output_type": "stream",
          "name": "stdout",
          "text": [
            "date and time = 17/11/2022 21:27:19\n"
          ]
        }
      ]
    },
    {
      "cell_type": "code",
      "source": [
        "def set_alarm(min_price,max_price):\n",
        "  import yfinance as yf\n",
        "  from datetime import datetime #Yahoo finance ve datetime tekrardan import edilmesi\n",
        "  usd_try = yf.Ticker(\"TRY=X\") # İstenilen birim veya hisse kodunun yerleştirilmesi\n",
        "  while True: # Fonksiyonun sonsuz döngüye sokulması\n",
        "      data = yf.download(tickers='TRY=X', period='1d', interval='1m')\n",
        "      close_value=(data['Close'].iloc[len(data['Close'])-1]) #anlık kapanış değerinin alınması\n",
        "      now = datetime.now()\n",
        "      sys_date = now.strftime(\"%d/%m/%Y %H:%M:%S\") # Güncel sistem zamanının alınması\n",
        "      if close_value>=max_price: # max fiyat için koşul\n",
        "        print(\"Price is  \"  + str(close_value) + \" . Time to sell. \" +str(sys_date))\n",
        "        break\n",
        "      elif close_value<=min_price: # min fiyat için koşul\n",
        "        print(\"Price is  \"  + str(close_value) + \" . Time to buy. \" +str(sys_date))            \n",
        "        break\n",
        "      else:\n",
        "        print(\"Value of TRY is : \" + str(close_value) +\" at \" +str(sys_date)) # koşullar sağlanmadıkça anlık değeri ve zamanı çıktı olarak görmek istiyorum.\n",
        "        \n",
        "\n",
        "\n",
        "      \n",
        "\n",
        "\n",
        "\n"
      ],
      "metadata": {
        "id": "JZsPzFLp1Jgf"
      },
      "execution_count": 114,
      "outputs": []
    },
    {
      "cell_type": "code",
      "source": [
        "set_alarm(18.58,18.59)"
      ],
      "metadata": {
        "colab": {
          "base_uri": "https://localhost:8080/"
        },
        "id": "LFp7T3zl4WXx",
        "outputId": "1334f525-e15c-497d-c606-71a38d9afe03"
      },
      "execution_count": 116,
      "outputs": [
        {
          "output_type": "stream",
          "name": "stdout",
          "text": [
            "\r[*********************100%***********************]  1 of 1 completed\n",
            "Price is  18.59600067138672 . Time to sell. 17/11/2022 21:27:42\n"
          ]
        }
      ]
    }
  ]
}