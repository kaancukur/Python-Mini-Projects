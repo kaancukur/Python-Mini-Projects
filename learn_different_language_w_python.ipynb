{
  "nbformat": 4,
  "nbformat_minor": 0,
  "metadata": {
    "colab": {
      "provenance": []
    },
    "kernelspec": {
      "name": "python3",
      "display_name": "Python 3"
    },
    "language_info": {
      "name": "python"
    }
  },
  "cells": [
    {
      "cell_type": "code",
      "source": [
        "!pip install translators #import necessary libraries\n",
        "import translators as ts\n",
        "import pandas as pd\n",
        "import numpy as np\n",
        "import smtplib \n",
        "from email.message import EmailMessage"
      ],
      "metadata": {
        "colab": {
          "base_uri": "https://localhost:8080/"
        },
        "id": "ax2FvKzmpiH3",
        "outputId": "0a876a73-6e90-4814-ec42-5ed589baa8a4"
      },
      "execution_count": 1,
      "outputs": [
        {
          "output_type": "stream",
          "name": "stdout",
          "text": [
            "Looking in indexes: https://pypi.org/simple, https://us-python.pkg.dev/colab-wheels/public/simple/\n",
            "Collecting translators\n",
            "  Downloading translators-5.5.0-py3-none-any.whl (30 kB)\n",
            "Collecting pathos>=0.2.9\n",
            "  Downloading pathos-0.3.0-py3-none-any.whl (79 kB)\n",
            "\u001b[K     |████████████████████████████████| 79 kB 3.2 MB/s \n",
            "\u001b[?25hCollecting PyExecJS>=1.5.1\n",
            "  Downloading PyExecJS-1.5.1.tar.gz (13 kB)\n",
            "Collecting requests>=2.28.1\n",
            "  Downloading requests-2.28.1-py3-none-any.whl (62 kB)\n",
            "\u001b[K     |████████████████████████████████| 62 kB 744 kB/s \n",
            "\u001b[?25hCollecting cryptography>=38.0.1\n",
            "  Downloading cryptography-38.0.4-cp36-abi3-manylinux_2_24_x86_64.whl (4.0 MB)\n",
            "\u001b[K     |████████████████████████████████| 4.0 MB 42.1 MB/s \n",
            "\u001b[?25hRequirement already satisfied: lxml>=4.9.1 in /usr/local/lib/python3.7/dist-packages (from translators) (4.9.1)\n",
            "Requirement already satisfied: cffi>=1.12 in /usr/local/lib/python3.7/dist-packages (from cryptography>=38.0.1->translators) (1.15.1)\n",
            "Requirement already satisfied: pycparser in /usr/local/lib/python3.7/dist-packages (from cffi>=1.12->cryptography>=38.0.1->translators) (2.21)\n",
            "Requirement already satisfied: dill>=0.3.6 in /usr/local/lib/python3.7/dist-packages (from pathos>=0.2.9->translators) (0.3.6)\n",
            "Collecting ppft>=1.7.6.6\n",
            "  Downloading ppft-1.7.6.6-py3-none-any.whl (52 kB)\n",
            "\u001b[K     |████████████████████████████████| 52 kB 817 kB/s \n",
            "\u001b[?25hCollecting multiprocess>=0.70.14\n",
            "  Downloading multiprocess-0.70.14-py37-none-any.whl (115 kB)\n",
            "\u001b[K     |████████████████████████████████| 115 kB 55.3 MB/s \n",
            "\u001b[?25hCollecting pox>=0.3.2\n",
            "  Downloading pox-0.3.2-py3-none-any.whl (29 kB)\n",
            "Requirement already satisfied: six>=1.10.0 in /usr/local/lib/python3.7/dist-packages (from PyExecJS>=1.5.1->translators) (1.15.0)\n",
            "Requirement already satisfied: charset-normalizer<3,>=2 in /usr/local/lib/python3.7/dist-packages (from requests>=2.28.1->translators) (2.1.1)\n",
            "Requirement already satisfied: urllib3<1.27,>=1.21.1 in /usr/local/lib/python3.7/dist-packages (from requests>=2.28.1->translators) (1.24.3)\n",
            "Requirement already satisfied: idna<4,>=2.5 in /usr/local/lib/python3.7/dist-packages (from requests>=2.28.1->translators) (2.10)\n",
            "Requirement already satisfied: certifi>=2017.4.17 in /usr/local/lib/python3.7/dist-packages (from requests>=2.28.1->translators) (2022.9.24)\n",
            "Building wheels for collected packages: PyExecJS\n",
            "  Building wheel for PyExecJS (setup.py) ... \u001b[?25l\u001b[?25hdone\n",
            "  Created wheel for PyExecJS: filename=PyExecJS-1.5.1-py3-none-any.whl size=14596 sha256=735cc16168cb770f291edc847cc1f6d7fbbad4c1253fd20beb3f523aa09ec8b8\n",
            "  Stored in directory: /root/.cache/pip/wheels/9a/ee/03/da5c0b4a8c13362beeb844eb913bbe58a89bde1de2b9157007\n",
            "Successfully built PyExecJS\n",
            "Installing collected packages: ppft, pox, multiprocess, requests, PyExecJS, pathos, cryptography, translators\n",
            "  Attempting uninstall: requests\n",
            "    Found existing installation: requests 2.23.0\n",
            "    Uninstalling requests-2.23.0:\n",
            "      Successfully uninstalled requests-2.23.0\n",
            "Successfully installed PyExecJS-1.5.1 cryptography-38.0.4 multiprocess-0.70.14 pathos-0.3.0 pox-0.3.2 ppft-1.7.6.6 requests-2.28.1 translators-5.5.0\n"
          ]
        },
        {
          "output_type": "stream",
          "name": "stderr",
          "text": [
            "Using state South Carolina server backend.\n"
          ]
        }
      ]
    },
    {
      "cell_type": "code",
      "execution_count": 2,
      "metadata": {
        "colab": {
          "base_uri": "https://localhost:8080/"
        },
        "id": "YqzAURx5o_-x",
        "outputId": "c59fc4cf-1af0-4697-8ccc-5fa0b737c75f"
      },
      "outputs": [
        {
          "output_type": "stream",
          "name": "stdout",
          "text": [
            "Enter your word: Öğrenci\n",
            "Student\n",
            "Enter your word: Yazılımcı\n",
            "Programmer\n",
            "Enter your word: Yabancı dil\n",
            "Foreign language\n",
            "Enter your word: Çok uzun bir metin yazıyorum.\n",
            "I am writing a very long text.\n",
            "Enter your word: \n",
            "                         Turkish                         English\n",
            "0                        Öğrenci                         Student\n",
            "1                      Yazılımcı                      Programmer\n",
            "2                    Yabancı dil                Foreign language\n",
            "3  Çok uzun bir metin yazıyorum.  I am writing a very long text.\n"
          ]
        }
      ],
      "source": [
        "searched_list=[]#list for searchs\n",
        "translate_list=[] # list for translated words\n",
        "\n",
        "while True:\n",
        "    word = input(\"Enter your word: \") # ask word to user\n",
        "    if word == \"\": #if we press enter while loop will terminate.\n",
        "        break\n",
        "    searched_list.append(word) #every word will append our searched text list.\n",
        "    translate_list.append(ts.google(word)) #append translated words to translate list\n",
        "    translated_word=ts.google(word)\n",
        "    print(translated_word) #print result\n",
        "d = {'Turkish':searched_list,'English':translate_list} # save to dictionary \n",
        "df = pd.DataFrame(d) # translate to pandas dataframe, need for turn to pd.\n",
        "df.to_excel(\"your_daily_words.xlsx\") #save for excel,need for email\n",
        "print(df)\n"
      ]
    },
    {
      "cell_type": "code",
      "source": [
        "email_sender='kaancukurx@gmail.com' #Sender email\n",
        "email_password='kmybiqwbkkcroiis'#password whichone take from google account.\n",
        "email_reciever='kaancukurx@gmail.com' # email reciever\n",
        "subject='Your daily words at attachment!' # your mail subject\n",
        "content='Please look at attached file' # email content(you can add .txt file in here.)"
      ],
      "metadata": {
        "id": "kjMgcpBAecY6"
      },
      "execution_count": 3,
      "outputs": []
    },
    {
      "cell_type": "code",
      "source": [
        "def send_words_to_mail(email_reciever, subject, content, excel_file):\n",
        "    df.to_excel(\"words.xlsx\")\n",
        "    msg = EmailMessage()\n",
        "    msg['Subject'] = subject # definitaion of subject\n",
        "    msg['From'] = email_sender # definitaion of sender\n",
        "    msg['To'] = email_reciever # definitaion of reciever\n",
        "    msg.set_content(content) # setting content\n",
        "    with open(excel_file, 'rb') as f:\n",
        "        file_data = f.read() # reading of excel file, you can change this to csv,txt,png..\n",
        "    msg.add_attachment(file_data, maintype=\"application\", subtype=\"xlsx\", filename=excel_file)# add attachment part.need to optimize for your file.\n",
        "\n",
        "    with smtplib.SMTP_SSL('smtp.gmail.com',465) as smtp:# our port is 465 for mail.\n",
        "        smtp.login(email_sender, email_password) # login to gmail.\n",
        "        smtp.send_message(msg)#sending to email"
      ],
      "metadata": {
        "id": "zUQws_aGehty"
      },
      "execution_count": 4,
      "outputs": []
    },
    {
      "cell_type": "code",
      "source": [
        "def game():\n",
        "\n",
        "  import random #import random lib for get random word.\n",
        "  exit = False\n",
        "  pts=0 #points is zero at the begining.\n",
        "  random_raw_new=len(searched_list)\n",
        "  while exit == False: \n",
        "      random_raw=random.randint(0,len(searched_list)-1) #random raw will select from searched list.\n",
        "      your_word=df.iloc[random_raw, 0] # choose my word\n",
        "      true_word=df.iloc[random_raw, 1] # save translated word.\n",
        "      answer=input( \"Your word is : '\"+ your_word  + \"' What is your answer ? \") #take input from user.\n",
        "      if answer == true_word :\n",
        "          print(\"correct\") \n",
        "          pts=pts+1\n",
        "          exit=False\n",
        "          resume=input(\"Your point is \" + str(pts) + \". Do yu want to continue ?\") # if my answer is true then earn  score and ask for resume.\n",
        "          if resume=='Y' or resume=='y' :\n",
        "            exit=False\n",
        "          elif resume=='N'or resume=='n':\n",
        "            print(\"Your point is \" + str(pts) + \".Congrats.\") # exit or continue ?\n",
        "            exit=True  \n",
        "      if answer!= true_word:\n",
        "         resume=input(\"Wrong answer.\" +\"True answer was \"+ true_word + \" Your point is \" +str(pts) + \".\" + \"Do want to start again ? \")     \n",
        "         # if my answer is wrong, learn my final score and ask for resume or exit.\n",
        "         if resume=='Y' or resume=='y' :\n",
        "            exit=False\n",
        "         elif resume=='N'or resume=='n':\n",
        "            exit=True\n",
        "            print(\"Your point is \" + str(pts) + \".Congrats.\")\n",
        "      if answer == \"\" : #if we press enter, we can directly quit.\n",
        "          print(\"Game ended. your point is \" + str(pts))\n",
        "          exit = True\n",
        "  mail_request=input(\"Do you want me to send your words by e-mail?(y/n)\") # ask for e amil ?\n",
        "  if mail_request==\"y\": # if answer is \"y\" then send an email.\n",
        "    send_words_to_mail(email_reciever,subject,content,'/content/your_daily_words.xlsx')\n",
        "  else:\n",
        "    exit = True    "
      ],
      "metadata": {
        "id": "MedQoGCmd7eh"
      },
      "execution_count": 7,
      "outputs": []
    },
    {
      "cell_type": "code",
      "source": [
        "game()"
      ],
      "metadata": {
        "colab": {
          "base_uri": "https://localhost:8080/"
        },
        "id": "WAZQG1kRs-a4",
        "outputId": "22ab503c-68f9-4a2a-c648-57dd1450b17c"
      },
      "execution_count": 8,
      "outputs": [
        {
          "name": "stdout",
          "output_type": "stream",
          "text": [
            "Your word is : 'Öğrenci' What is your answer ? Student\n",
            "correct\n",
            "Your point is 1. Do yu want to continue ?y\n",
            "Your word is : 'Öğrenci' What is your answer ? Student\n",
            "correct\n",
            "Your point is 2. Do yu want to continue ?y\n",
            "Your word is : 'Yazılımcı' What is your answer ? Programmer\n",
            "correct\n",
            "Your point is 3. Do yu want to continue ?y\n",
            "Your word is : 'Yazılımcı' What is your answer ? Programmer\n",
            "correct\n",
            "Your point is 4. Do yu want to continue ?y\n",
            "Your word is : 'Öğrenci' What is your answer ? Student\n",
            "correct\n",
            "Your point is 5. Do yu want to continue ?n\n",
            "Your point is 5.Congrats.\n",
            "Do you want me to send your words by e-mail?(y/n)y\n"
          ]
        }
      ]
    },
    {
      "cell_type": "code",
      "source": [],
      "metadata": {
        "id": "_Pf4ONXkhdDO"
      },
      "execution_count": null,
      "outputs": []
    }
  ]
}